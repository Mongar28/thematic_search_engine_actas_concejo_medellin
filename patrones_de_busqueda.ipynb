{
 "cells": [
  {
   "cell_type": "code",
   "execution_count": 1,
   "metadata": {},
   "outputs": [],
   "source": [
    "import pandas as pd  \n",
    "from unidecode import unidecode\n",
    "import re"
   ]
  },
  {
   "cell_type": "code",
   "execution_count": 16,
   "metadata": {},
   "outputs": [],
   "source": [
    "# Function to clean text from PDFs and add some delimiters for further processing\n",
    "\n",
    "def limpiador1(text: str) -> str:\n",
    "    \n",
    "    text = re.sub(r'\\n\\d{1,3}', '', text) # Remove line breaks followed by one to three digits\n",
    "    text = re.sub(r'\\.\\s\\n\\n', '. @@@ ', text) # Replace periods followed by two line breaks with '. @@@ '\n",
    "    text = re.sub(r'\\n\\.', '', text) # Remove line breaks followed by a period\n",
    "    text = re.sub(r'\\s\\n\\s', ' ', text) # Replace spaces surrounding line breaks with a single space\n",
    "    text = re.sub(r'\\n{1,100}', ' ', text) # Replace multiple line breaks with a single space\n",
    "    text = re.sub(r'SESION PLENARIA ORDINARIA [0-9]{1,3}', '  ', text) # Replace 'SESION PLENARIA ORDINARIA' followed by one to three digits with two spaces\n",
    "    text = re.sub(r'\\d{1,3} SESION PLENARIA ORDINARIA', '  ', text) # Replace one to three digits followed by 'SESION PLENARIA ORDINARIA' with two spaces\n",
    "    text = re.sub(r'\\s{2,100}', ' ', text) # Replace multiple spaces with a single space\n",
    "    text = re.sub(r'Intervino', '___Intervino', text) # Add '___Intervino' after the occurrence of 'Intervino'\n",
    "    \n",
    "    # Return the processed text\n",
    "    return text\n"
   ]
  },
  {
   "cell_type": "code",
   "execution_count": 3,
   "metadata": {},
   "outputs": [
    {
     "name": "stdout",
     "output_type": "stream",
     "text": [
      "CONCEJO DE MEDELLIN SESION ORDINARIA ACTA 670 Junio 9 de 2015 \n"
     ]
    },
    {
     "data": {
      "text/plain": [
       "'CONCEJO DE MEDELLIN SESION ORDINARIA ACTA 670 Junio 9 de 2015 '"
      ]
     },
     "execution_count": 3,
     "metadata": {},
     "output_type": "execute_result"
    }
   ],
   "source": [
    "df = pd.read_csv('actas_concejo.csv')\n",
    "\n",
    "print(limpiador1(df['texto'][0][:70]))\n",
    "limpiador1(df['texto'][0][:70])"
   ]
  },
  {
   "cell_type": "code",
   "execution_count": 17,
   "metadata": {},
   "outputs": [],
   "source": [
    "# Patterns for the header of the minutes.\n",
    "\n",
    "pattern_acta: str = r'(\\bACTA\\s?[\\d\\w]{1,4})'\n",
    "pattern_tipo_sesion: str = r'(\\b(SESION|sEslou|sEsron)\\s[\\s\\S]+?)\\sACTA'\n",
    "pattern_fecha: str = r'(\\b[A-Z][a-z]+?[\\s\\S]+?\\d{4})' \n",
    "\n",
    "# Content patterns\n",
    "\n",
    "pattern_intervino_texto: str = r'(___Intervino[\\S\\s]+?:[\\S\\s]+?)___'\n",
    "pattern_intervino: str = r'___Intervino[\\S\\s]+?([A-Z][a-z]*?[\\S\\s]+?):'\n",
    "pattern_intervino2: str = r'___Intervino\\s?([\\S\\s]+?):'\n",
    "pattern_intervencion: str = r'___Intervino.+?:'\n",
    "\n"
   ]
  },
  {
   "cell_type": "code",
   "execution_count": null,
   "metadata": {},
   "outputs": [],
   "source": [
    "# Debugging of the dataframe.\n",
    "\n",
    "df_depurado = pd.DataFrame()\n",
    "nueva_lista_actas: list = []\n",
    "numero_acta: list = []\n",
    "\n",
    "for i, acta in enumerate(df['texto']):\n",
    "    \n",
    "    if type(acta) == str and len(acta) > 5000:\n",
    "    \n",
    "        acta = limpiador1(acta)\n",
    "    \n",
    "        acta_ = re.search(pattern_acta, acta).group(1)\n",
    "        \n",
    "        if acta_ not in numero_acta:\n",
    "            nueva_lista_actas.append(acta)\n",
    "        \n",
    "            print(f'''\n",
    "                index: {i}\n",
    "                acta: {acta_}\n",
    "                _______________________________________________________________\n",
    "                ''')\n",
    "            print(len(nueva_lista_actas))\n",
    "\n",
    "print(f'Numero de actas ANTES de la depuracion: {len(df[\"texto\"])}')\n",
    "df_depurado['texto'] = nueva_lista_actas\n",
    "print(f'Numero de actas DESPUES de la depuracion: {len(df_depurado[\"texto\"])}')"
   ]
  },
  {
   "cell_type": "code",
   "execution_count": null,
   "metadata": {},
   "outputs": [],
   "source": [
    "# \"Verification of header data in all minutes.\"\n",
    "\n",
    "for i, acta in enumerate(df_depurado['texto']):\n",
    "    print(i)\n",
    "\n",
    "    acta = acta[:5000]\n",
    "    \n",
    "    acta_ = re.search(pattern_acta, acta).group(1)\n",
    "    tipo_sesion = re.search(pattern_tipo_sesion, acta).group(1)\n",
    "    fecha = re.search(pattern_fecha, acta).group(1)\n",
    "    \n",
    "    print(f'''\n",
    "        - Index: {i}\n",
    "        - Tipo de dato: {type(acta)}\n",
    "        - Longitud del texto: {len(acta)}\n",
    "        - Texto del encabezado: {acta[:70]}\n",
    "        - Acta: {acta_}\n",
    "        - Tipo de sesion: {tipo_sesion}\n",
    "        - Fecha: {fecha}\n",
    "        ____________________________________________________________________________\n",
    "\n",
    "          ''')\n",
    "    "
   ]
  },
  {
   "cell_type": "code",
   "execution_count": 7,
   "metadata": {},
   "outputs": [
    {
     "data": {
      "text/plain": [
       "13"
      ]
     },
     "execution_count": 7,
     "metadata": {},
     "output_type": "execute_result"
    }
   ],
   "source": [
    "intervencion_intervienen: list = re.findall(pattern_intervino_texto, df_depurado['texto'][0])\n",
    "len(intervencion_intervienen)"
   ]
  },
  {
   "cell_type": "code",
   "execution_count": null,
   "metadata": {},
   "outputs": [],
   "source": [
    "# We test if everything is working correctly.\n",
    "intervenciones_acta = re.findall(pattern_intervino_texto, df_depurado['texto'][61])\n",
    "\n",
    "intervencion = ''\n",
    "intervino = ''\n",
    "\n",
    "print(type(intervenciones_acta))\n",
    "print(len(intervenciones_acta))\n",
    "\n",
    "for i, inter in enumerate(intervenciones_acta):\n",
    "    print(inter)\n",
    "    intervencion = re.sub(pattern_intervencion, '', inter)\n",
    "    \n",
    "    if re.search(pattern_intervino, inter):\n",
    "        intervino =  re.search(pattern_intervino, inter).group(1)\n",
    "    else:\n",
    "        intervino =  re.search(pattern_intervino2, inter).group(1)\n",
    "\n",
    "    print(f'''\n",
    "          - Index:  {i}\n",
    "          - Intervencion: {intervencion[:100]}\n",
    "          - intervino: {intervino}\n",
    "          ________________________________________________________________\n",
    "          ''')"
   ]
  },
  {
   "cell_type": "code",
   "execution_count": null,
   "metadata": {},
   "outputs": [],
   "source": [
    "# We build the dataframe with the interventions.\n",
    "\n",
    "dict_intervenciones: dict = {\n",
    "    'acta': [],\n",
    "    'fecha': [],\n",
    "    'sesion': [],\n",
    "    'intervino': [],\n",
    "    'intervencion': []\n",
    "}\n",
    "\n",
    "intervencion_intervienen: list = [] \n",
    "acta_numero: list = []\n",
    "acta_fecha: list = []\n",
    "sesion: list = []\n",
    "\n",
    "intervino_list: list = []\n",
    "intervencion_list: list = []\n",
    "\n",
    "acta_n: str = ''\n",
    "tipo_sesion: str = ''\n",
    "fecha: str = ''\n",
    "texto_intervencion: str = ''\n",
    "texto_interviene: str = ''\n",
    "\n",
    "for i, acta in enumerate(df_depurado['texto']):\n",
    "\n",
    "    acta_n = re.search(pattern_acta, acta).group(1).title()\n",
    "    tipo_sesion = re.search(pattern_tipo_sesion, acta).group(1).title()\n",
    "    fecha = re.search(pattern_fecha, acta).group(1)\n",
    "    \n",
    "    intervencion_intervienen = re.findall(pattern_intervino_texto, acta)\n",
    "    \n",
    "    print(f'''\n",
    "    - Index: {i}\n",
    "    - Acta: {acta_n}\n",
    "    - Tipo de sesion: {tipo_sesion}\n",
    "    - Fecha: {fecha}\n",
    "    - Intervenciones: {len(intervencion_intervienen)}\n",
    "    ____________________________________________________________________________\n",
    "    ''')\n",
    "    \n",
    "    for intervencion in intervencion_intervienen:\n",
    "        acta_numero.append(acta_n)\n",
    "        acta_fecha.append(fecha)\n",
    "        sesion.append(tipo_sesion)\n",
    "\n",
    "        texto_intervencion = re.sub(pattern_intervencion, '', intervencion)\n",
    "        \n",
    "        if re.search(pattern_intervino, intervencion):\n",
    "            texto_interviene = re.search(pattern_intervino, intervencion).group(1)\n",
    "        else:\n",
    "            texto_interviene = re.search(pattern_intervino2, intervencion).group(1)\n",
    "        \n",
    "        intervencion_list.append(texto_intervencion)\n",
    "        intervino_list.append(texto_interviene)\n",
    "        \n",
    "dict_intervenciones: dict = {\n",
    "    'acta': acta_numero,\n",
    "    'fecha': acta_fecha,\n",
    "    'sesion': sesion,\n",
    "    'intervino': intervino_list,\n",
    "    'intervencion': intervencion_list\n",
    "}"
   ]
  },
  {
   "cell_type": "code",
   "execution_count": 10,
   "metadata": {},
   "outputs": [
    {
     "name": "stdout",
     "output_type": "stream",
     "text": [
      "19797\n",
      "19797\n"
     ]
    }
   ],
   "source": [
    "print(len(intervencion_list))\n",
    "print(len(intervino_list))"
   ]
  },
  {
   "cell_type": "code",
   "execution_count": 11,
   "metadata": {},
   "outputs": [
    {
     "data": {
      "text/html": [
       "<div>\n",
       "<style scoped>\n",
       "    .dataframe tbody tr th:only-of-type {\n",
       "        vertical-align: middle;\n",
       "    }\n",
       "\n",
       "    .dataframe tbody tr th {\n",
       "        vertical-align: top;\n",
       "    }\n",
       "\n",
       "    .dataframe thead th {\n",
       "        text-align: right;\n",
       "    }\n",
       "</style>\n",
       "<table border=\"1\" class=\"dataframe\">\n",
       "  <thead>\n",
       "    <tr style=\"text-align: right;\">\n",
       "      <th></th>\n",
       "      <th>acta</th>\n",
       "      <th>fecha</th>\n",
       "      <th>sesion</th>\n",
       "      <th>intervino</th>\n",
       "      <th>intervencion</th>\n",
       "    </tr>\n",
       "  </thead>\n",
       "  <tbody>\n",
       "    <tr>\n",
       "      <th>0</th>\n",
       "      <td>Acta 670</td>\n",
       "      <td>Junio 9 de 2015</td>\n",
       "      <td>Sesion Ordinaria</td>\n",
       "      <td>Oscar Guillermo Hoyos Giraldo</td>\n",
       "      <td>\"Para solicitar se someta a consideracion el ...</td>\n",
       "    </tr>\n",
       "    <tr>\n",
       "      <th>1</th>\n",
       "      <td>Acta 670</td>\n",
       "      <td>Junio 9 de 2015</td>\n",
       "      <td>Sesion Ordinaria</td>\n",
       "      <td>Bernardo Alejandro Guerra Hoyos</td>\n",
       "      <td>\"Los problemas de Villa Cafe; el hecho que el...</td>\n",
       "    </tr>\n",
       "    <tr>\n",
       "      <th>2</th>\n",
       "      <td>Acta 670</td>\n",
       "      <td>Junio 9 de 2015</td>\n",
       "      <td>Sesion Ordinaria</td>\n",
       "      <td>Maria Mercedes Mateos Larraona</td>\n",
       "      <td>\"Estuvimos en el estadio con alegria, porque ...</td>\n",
       "    </tr>\n",
       "    <tr>\n",
       "      <th>3</th>\n",
       "      <td>Acta 670</td>\n",
       "      <td>Junio 9 de 2015</td>\n",
       "      <td>Sesion Ordinaria</td>\n",
       "      <td>Fabio Humberto Rivera Rivera</td>\n",
       "      <td>\"Lo primero es que me cogen a \"boca de jarra\"...</td>\n",
       "    </tr>\n",
       "    <tr>\n",
       "      <th>4</th>\n",
       "      <td>Acta 670</td>\n",
       "      <td>Junio 9 de 2015</td>\n",
       "      <td>Sesion Ordinaria</td>\n",
       "      <td>Luis Bernardo Velez Montoya</td>\n",
       "      <td>\"Me uno a la protesta que hace el concejal Os...</td>\n",
       "    </tr>\n",
       "  </tbody>\n",
       "</table>\n",
       "</div>"
      ],
      "text/plain": [
       "       acta            fecha            sesion  \\\n",
       "0  Acta 670  Junio 9 de 2015  Sesion Ordinaria   \n",
       "1  Acta 670  Junio 9 de 2015  Sesion Ordinaria   \n",
       "2  Acta 670  Junio 9 de 2015  Sesion Ordinaria   \n",
       "3  Acta 670  Junio 9 de 2015  Sesion Ordinaria   \n",
       "4  Acta 670  Junio 9 de 2015  Sesion Ordinaria   \n",
       "\n",
       "                         intervino  \\\n",
       "0    Oscar Guillermo Hoyos Giraldo   \n",
       "1  Bernardo Alejandro Guerra Hoyos   \n",
       "2   Maria Mercedes Mateos Larraona   \n",
       "3     Fabio Humberto Rivera Rivera   \n",
       "4      Luis Bernardo Velez Montoya   \n",
       "\n",
       "                                        intervencion  \n",
       "0   \"Para solicitar se someta a consideracion el ...  \n",
       "1   \"Los problemas de Villa Cafe; el hecho que el...  \n",
       "2   \"Estuvimos en el estadio con alegria, porque ...  \n",
       "3   \"Lo primero es que me cogen a \"boca de jarra\"...  \n",
       "4   \"Me uno a la protesta que hace el concejal Os...  "
      ]
     },
     "execution_count": 11,
     "metadata": {},
     "output_type": "execute_result"
    }
   ],
   "source": [
    "df_intervenciones = pd.DataFrame(dict_intervenciones)\n",
    "df_intervenciones.to_csv('intervenciones_concejo_medellin.csv',)\n",
    "\n",
    "df_intervenciones.head(5)"
   ]
  },
  {
   "cell_type": "code",
   "execution_count": 18,
   "metadata": {},
   "outputs": [],
   "source": [
    "# Function to search for keyword matches in a DataFrame\n",
    "\n",
    "def buscador_and(palabras_claves, df):\n",
    "    \n",
    "    # Convert keywords to lowercase and remove accents\n",
    "    palabras_claves = [unidecode(palabra).lower() for palabra in palabras_claves]\n",
    "    \n",
    "    # Function to check for keyword matches in a given text\n",
    "    def verificador_de_palabras(texto):\n",
    "        for palabra in palabras_claves:\n",
    "            if palabra.lower() not in unidecode(texto).lower():\n",
    "                return False\n",
    "        return True  # Added for cases where there are no discrepancies\n",
    "    \n",
    "    # Create a 'coincidencia' column indicating keyword matches\n",
    "    df['coincidencia'] = df['intervencion'].apply(verificador_de_palabras)\n",
    "    \n",
    "    # Filter the DataFrame based on the 'coincidencia' column\n",
    "    condiciones = df['coincidencia'] == True\n",
    "    df_filtrado = df[condiciones].copy()\n",
    "    \n",
    "    # Drop the 'coincidencia' column\n",
    "    df_filtrado.drop('coincidencia', axis=1, inplace=True)\n",
    "    \n",
    "    return df_filtrado\n"
   ]
  },
  {
   "cell_type": "code",
   "execution_count": 19,
   "metadata": {},
   "outputs": [],
   "source": [
    "# We choose a logical operator and keywords.\n",
    "\n",
    "operador:str =  'AND'\n",
    "palabras_claves: list = ['comuna', 'violencia']\n",
    "expresion_regular: str = '|'.join(palabras_claves)"
   ]
  },
  {
   "cell_type": "code",
   "execution_count": 20,
   "metadata": {},
   "outputs": [
    {
     "name": "stdout",
     "output_type": "stream",
     "text": [
      "4677\n",
      "566\n"
     ]
    },
    {
     "data": {
      "text/html": [
       "<div>\n",
       "<style scoped>\n",
       "    .dataframe tbody tr th:only-of-type {\n",
       "        vertical-align: middle;\n",
       "    }\n",
       "\n",
       "    .dataframe tbody tr th {\n",
       "        vertical-align: top;\n",
       "    }\n",
       "\n",
       "    .dataframe thead th {\n",
       "        text-align: right;\n",
       "    }\n",
       "</style>\n",
       "<table border=\"1\" class=\"dataframe\">\n",
       "  <thead>\n",
       "    <tr style=\"text-align: right;\">\n",
       "      <th></th>\n",
       "      <th>acta</th>\n",
       "      <th>fecha</th>\n",
       "      <th>sesion</th>\n",
       "      <th>intervino</th>\n",
       "      <th>intervencion</th>\n",
       "    </tr>\n",
       "  </thead>\n",
       "  <tbody>\n",
       "    <tr>\n",
       "      <th>58</th>\n",
       "      <td>Acta 090</td>\n",
       "      <td>Junio 13 de 2020</td>\n",
       "      <td>Sesion Plenaria Ordinaria</td>\n",
       "      <td>Luis Carlos Hernandez Castro</td>\n",
       "      <td>\"Quiero tocar tres puntos que me parecen impo...</td>\n",
       "    </tr>\n",
       "    <tr>\n",
       "      <th>83</th>\n",
       "      <td>Acta 480</td>\n",
       "      <td>Julio 27 de 2022</td>\n",
       "      <td>Sesion Plenaria Ordinaria</td>\n",
       "      <td>Seguridad y Convivencia, Jose Gerardo Acevedo ...</td>\n",
       "      <td>\"La informacion que va a brindar la Secretari...</td>\n",
       "    </tr>\n",
       "    <tr>\n",
       "      <th>85</th>\n",
       "      <td>Acta 480</td>\n",
       "      <td>Julio 27 de 2022</td>\n",
       "      <td>Sesion Plenaria Ordinaria</td>\n",
       "      <td>Babinton Dario Florez Moreno</td>\n",
       "      <td>\"Quiero de nuevo felicitar al concejal Luis C...</td>\n",
       "    </tr>\n",
       "    <tr>\n",
       "      <th>88</th>\n",
       "      <td>Acta 480</td>\n",
       "      <td>Julio 27 de 2022</td>\n",
       "      <td>Sesion Plenaria Ordinaria</td>\n",
       "      <td>Daniel Duque Velasquez</td>\n",
       "      <td>\"La situacion de las familias de Medellin es ...</td>\n",
       "    </tr>\n",
       "    <tr>\n",
       "      <th>89</th>\n",
       "      <td>Acta 480</td>\n",
       "      <td>Julio 27 de 2022</td>\n",
       "      <td>Sesion Plenaria Ordinaria</td>\n",
       "      <td>Nataly Velez Lopera</td>\n",
       "      <td>\"Un debate bien importante y bien traido el d...</td>\n",
       "    </tr>\n",
       "  </tbody>\n",
       "</table>\n",
       "</div>"
      ],
      "text/plain": [
       "        acta             fecha                     sesion  \\\n",
       "58  Acta 090  Junio 13 de 2020  Sesion Plenaria Ordinaria   \n",
       "83  Acta 480  Julio 27 de 2022  Sesion Plenaria Ordinaria   \n",
       "85  Acta 480  Julio 27 de 2022  Sesion Plenaria Ordinaria   \n",
       "88  Acta 480  Julio 27 de 2022  Sesion Plenaria Ordinaria   \n",
       "89  Acta 480  Julio 27 de 2022  Sesion Plenaria Ordinaria   \n",
       "\n",
       "                                            intervino  \\\n",
       "58                       Luis Carlos Hernandez Castro   \n",
       "83  Seguridad y Convivencia, Jose Gerardo Acevedo ...   \n",
       "85                       Babinton Dario Florez Moreno   \n",
       "88                             Daniel Duque Velasquez   \n",
       "89                                Nataly Velez Lopera   \n",
       "\n",
       "                                         intervencion  \n",
       "58   \"Quiero tocar tres puntos que me parecen impo...  \n",
       "83   \"La informacion que va a brindar la Secretari...  \n",
       "85   \"Quiero de nuevo felicitar al concejal Luis C...  \n",
       "88   \"La situacion de las familias de Medellin es ...  \n",
       "89   \"Un debate bien importante y bien traido el d...  "
      ]
     },
     "execution_count": 20,
     "metadata": {},
     "output_type": "execute_result"
    }
   ],
   "source": [
    "# Dataframe with the keywords and OR operator.\n",
    "df_intervenciones_filtrado_or = df_intervenciones[df_intervenciones['intervencion'].str.contains(expresion_regular, case=False, regex=True)]\n",
    "print(len(df_intervenciones_filtrado_or))\n",
    "\n",
    "# Dataframe with the keywords and AND operator.\n",
    "df_intervenciones_filtrado_and = buscador_and(palabras_claves, df_intervenciones)\n",
    "print(len(df_intervenciones_filtrado_and))\n",
    "\n",
    "df_intervenciones_filtrado_and.head(5)"
   ]
  },
  {
   "cell_type": "code",
   "execution_count": 15,
   "metadata": {},
   "outputs": [
    {
     "data": {
      "text/plain": [
       "566"
      ]
     },
     "execution_count": 15,
     "metadata": {},
     "output_type": "execute_result"
    }
   ],
   "source": [
    "dict_intervenciones_filtradas: dict = {\n",
    "    'OR': df_intervenciones_filtrado_or,\n",
    "    'AND': df_intervenciones_filtrado_and\n",
    "}\n",
    "\n",
    "len(dict_intervenciones_filtradas['AND'])"
   ]
  }
 ],
 "metadata": {
  "kernelspec": {
   "display_name": "Python 3",
   "language": "python",
   "name": "python3"
  },
  "language_info": {
   "codemirror_mode": {
    "name": "ipython",
    "version": 3
   },
   "file_extension": ".py",
   "mimetype": "text/x-python",
   "name": "python",
   "nbconvert_exporter": "python",
   "pygments_lexer": "ipython3",
   "version": "3.10.12"
  }
 },
 "nbformat": 4,
 "nbformat_minor": 2
}
